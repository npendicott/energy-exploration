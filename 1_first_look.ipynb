{
 "cells": [
  {
   "cell_type": "markdown",
   "metadata": {},
   "source": [
    "# Bring in the Energy/Weather data"
   ]
  },
  {
   "cell_type": "code",
   "execution_count": 3,
   "metadata": {},
   "outputs": [],
   "source": [
    "import numpy as np\n",
    "np.random.seed(42)\n",
    "import os\n",
    "\n",
    "# Plotting\n",
    "%matplotlib inline\n",
    "import matplotlib\n",
    "import matplotlib.pyplot as plt\n",
    "#plt.rcParams['axes.labelsize'] = 14\n",
    "#plt.rcParams['xtick.labelsize'] = 12\n",
    "#plt.rcParams['ytick.labelsize'] = 12\n",
    "\n",
    "# Save Images\n",
    "PROJECT_ROOT_DIR = \".\"\n",
    "IMAGES_PATH = os.path.join(PROJECT_ROOT_DIR, \"images\")\n",
    "\n",
    "def save_fig(fig_id, tight_layout=True, fig_extension=\"png\", resolution=300):\n",
    "    path = os.path.join(IMAGES_PATH, fig_id + \".\" + fig_extension)\n",
    "    print(\"Saving figure\", fig_id)\n",
    "    if tight_layout:\n",
    "        plt.tight_layout()\n",
    "    plt.savefig(path, format=fig_extension, dpi=resolution)\n",
    "\n",
    "# Ignore useless warnings (see SciPy issue #5998)\n",
    "import warnings\n",
    "warnings.filterwarnings(action=\"ignore\", message=\"^internal gelsd\")"
   ]
  },
  {
   "cell_type": "code",
   "execution_count": 4,
   "metadata": {},
   "outputs": [],
   "source": [
    "import pandas as pd\n",
    "\n",
    "PROJECT_DATA_DIR = os.path.join(PROJECT_ROOT_DIR, 'data')\n",
    "FILE_NAME = \"energydata_complete.csv\"\n",
    "\n",
    "def load_data(file_name, data_path=\"..\"):\n",
    "    csv_path = os.path.join(data_path, file_name)\n",
    "    return pd.read_csv(csv_path)\n",
    "\n",
    "#def load_data(data_path):\n",
    " #   csv_path = os.path.join(data_path, \"energydata_complete.csv\")\n",
    "  #  return pd.read_csv(csv_path)"
   ]
  },
  {
   "cell_type": "code",
   "execution_count": 5,
   "metadata": {
    "scrolled": false
   },
   "outputs": [
    {
     "data": {
      "text/html": [
       "<div>\n",
       "<style scoped>\n",
       "    .dataframe tbody tr th:only-of-type {\n",
       "        vertical-align: middle;\n",
       "    }\n",
       "\n",
       "    .dataframe tbody tr th {\n",
       "        vertical-align: top;\n",
       "    }\n",
       "\n",
       "    .dataframe thead th {\n",
       "        text-align: right;\n",
       "    }\n",
       "</style>\n",
       "<table border=\"1\" class=\"dataframe\">\n",
       "  <thead>\n",
       "    <tr style=\"text-align: right;\">\n",
       "      <th></th>\n",
       "      <th>date</th>\n",
       "      <th>Appliances</th>\n",
       "      <th>lights</th>\n",
       "      <th>T1</th>\n",
       "      <th>RH_1</th>\n",
       "      <th>T2</th>\n",
       "      <th>RH_2</th>\n",
       "      <th>T3</th>\n",
       "      <th>RH_3</th>\n",
       "      <th>T4</th>\n",
       "      <th>...</th>\n",
       "      <th>T9</th>\n",
       "      <th>RH_9</th>\n",
       "      <th>T_out</th>\n",
       "      <th>Press_mm_hg</th>\n",
       "      <th>RH_out</th>\n",
       "      <th>Windspeed</th>\n",
       "      <th>Visibility</th>\n",
       "      <th>Tdewpoint</th>\n",
       "      <th>rv1</th>\n",
       "      <th>rv2</th>\n",
       "    </tr>\n",
       "  </thead>\n",
       "  <tbody>\n",
       "    <tr>\n",
       "      <th>19730</th>\n",
       "      <td>2016-05-27 17:20:00</td>\n",
       "      <td>100</td>\n",
       "      <td>0</td>\n",
       "      <td>25.566667</td>\n",
       "      <td>46.560000</td>\n",
       "      <td>25.890000</td>\n",
       "      <td>42.025714</td>\n",
       "      <td>27.200000</td>\n",
       "      <td>41.163333</td>\n",
       "      <td>24.7</td>\n",
       "      <td>...</td>\n",
       "      <td>23.2</td>\n",
       "      <td>46.7900</td>\n",
       "      <td>22.733333</td>\n",
       "      <td>755.2</td>\n",
       "      <td>55.666667</td>\n",
       "      <td>3.333333</td>\n",
       "      <td>23.666667</td>\n",
       "      <td>13.333333</td>\n",
       "      <td>43.096812</td>\n",
       "      <td>43.096812</td>\n",
       "    </tr>\n",
       "    <tr>\n",
       "      <th>19731</th>\n",
       "      <td>2016-05-27 17:30:00</td>\n",
       "      <td>90</td>\n",
       "      <td>0</td>\n",
       "      <td>25.500000</td>\n",
       "      <td>46.500000</td>\n",
       "      <td>25.754000</td>\n",
       "      <td>42.080000</td>\n",
       "      <td>27.133333</td>\n",
       "      <td>41.223333</td>\n",
       "      <td>24.7</td>\n",
       "      <td>...</td>\n",
       "      <td>23.2</td>\n",
       "      <td>46.7900</td>\n",
       "      <td>22.600000</td>\n",
       "      <td>755.2</td>\n",
       "      <td>56.000000</td>\n",
       "      <td>3.500000</td>\n",
       "      <td>24.500000</td>\n",
       "      <td>13.300000</td>\n",
       "      <td>49.282940</td>\n",
       "      <td>49.282940</td>\n",
       "    </tr>\n",
       "    <tr>\n",
       "      <th>19732</th>\n",
       "      <td>2016-05-27 17:40:00</td>\n",
       "      <td>270</td>\n",
       "      <td>10</td>\n",
       "      <td>25.500000</td>\n",
       "      <td>46.596667</td>\n",
       "      <td>25.628571</td>\n",
       "      <td>42.768571</td>\n",
       "      <td>27.050000</td>\n",
       "      <td>41.690000</td>\n",
       "      <td>24.7</td>\n",
       "      <td>...</td>\n",
       "      <td>23.2</td>\n",
       "      <td>46.7900</td>\n",
       "      <td>22.466667</td>\n",
       "      <td>755.2</td>\n",
       "      <td>56.333333</td>\n",
       "      <td>3.666667</td>\n",
       "      <td>25.333333</td>\n",
       "      <td>13.266667</td>\n",
       "      <td>29.199117</td>\n",
       "      <td>29.199117</td>\n",
       "    </tr>\n",
       "    <tr>\n",
       "      <th>19733</th>\n",
       "      <td>2016-05-27 17:50:00</td>\n",
       "      <td>420</td>\n",
       "      <td>10</td>\n",
       "      <td>25.500000</td>\n",
       "      <td>46.990000</td>\n",
       "      <td>25.414000</td>\n",
       "      <td>43.036000</td>\n",
       "      <td>26.890000</td>\n",
       "      <td>41.290000</td>\n",
       "      <td>24.7</td>\n",
       "      <td>...</td>\n",
       "      <td>23.2</td>\n",
       "      <td>46.8175</td>\n",
       "      <td>22.333333</td>\n",
       "      <td>755.2</td>\n",
       "      <td>56.666667</td>\n",
       "      <td>3.833333</td>\n",
       "      <td>26.166667</td>\n",
       "      <td>13.233333</td>\n",
       "      <td>6.322784</td>\n",
       "      <td>6.322784</td>\n",
       "    </tr>\n",
       "    <tr>\n",
       "      <th>19734</th>\n",
       "      <td>2016-05-27 18:00:00</td>\n",
       "      <td>430</td>\n",
       "      <td>10</td>\n",
       "      <td>25.500000</td>\n",
       "      <td>46.600000</td>\n",
       "      <td>25.264286</td>\n",
       "      <td>42.971429</td>\n",
       "      <td>26.823333</td>\n",
       "      <td>41.156667</td>\n",
       "      <td>24.7</td>\n",
       "      <td>...</td>\n",
       "      <td>23.2</td>\n",
       "      <td>46.8450</td>\n",
       "      <td>22.200000</td>\n",
       "      <td>755.2</td>\n",
       "      <td>57.000000</td>\n",
       "      <td>4.000000</td>\n",
       "      <td>27.000000</td>\n",
       "      <td>13.200000</td>\n",
       "      <td>34.118851</td>\n",
       "      <td>34.118851</td>\n",
       "    </tr>\n",
       "  </tbody>\n",
       "</table>\n",
       "<p>5 rows × 29 columns</p>\n",
       "</div>"
      ],
      "text/plain": [
       "                      date  Appliances  lights         T1       RH_1  \\\n",
       "19730  2016-05-27 17:20:00         100       0  25.566667  46.560000   \n",
       "19731  2016-05-27 17:30:00          90       0  25.500000  46.500000   \n",
       "19732  2016-05-27 17:40:00         270      10  25.500000  46.596667   \n",
       "19733  2016-05-27 17:50:00         420      10  25.500000  46.990000   \n",
       "19734  2016-05-27 18:00:00         430      10  25.500000  46.600000   \n",
       "\n",
       "              T2       RH_2         T3       RH_3    T4    ...        T9  \\\n",
       "19730  25.890000  42.025714  27.200000  41.163333  24.7    ...      23.2   \n",
       "19731  25.754000  42.080000  27.133333  41.223333  24.7    ...      23.2   \n",
       "19732  25.628571  42.768571  27.050000  41.690000  24.7    ...      23.2   \n",
       "19733  25.414000  43.036000  26.890000  41.290000  24.7    ...      23.2   \n",
       "19734  25.264286  42.971429  26.823333  41.156667  24.7    ...      23.2   \n",
       "\n",
       "          RH_9      T_out  Press_mm_hg     RH_out  Windspeed  Visibility  \\\n",
       "19730  46.7900  22.733333        755.2  55.666667   3.333333   23.666667   \n",
       "19731  46.7900  22.600000        755.2  56.000000   3.500000   24.500000   \n",
       "19732  46.7900  22.466667        755.2  56.333333   3.666667   25.333333   \n",
       "19733  46.8175  22.333333        755.2  56.666667   3.833333   26.166667   \n",
       "19734  46.8450  22.200000        755.2  57.000000   4.000000   27.000000   \n",
       "\n",
       "       Tdewpoint        rv1        rv2  \n",
       "19730  13.333333  43.096812  43.096812  \n",
       "19731  13.300000  49.282940  49.282940  \n",
       "19732  13.266667  29.199117  29.199117  \n",
       "19733  13.233333   6.322784   6.322784  \n",
       "19734  13.200000  34.118851  34.118851  \n",
       "\n",
       "[5 rows x 29 columns]"
      ]
     },
     "execution_count": 5,
     "metadata": {},
     "output_type": "execute_result"
    }
   ],
   "source": [
    "#energy_data = load_energy_data(DATA_PATH)\n",
    "energy_data = load_data(FILE_NAME, PROJECT_DATA_DIR)\n",
    "energy_data.tail()"
   ]
  },
  {
   "cell_type": "markdown",
   "metadata": {
    "scrolled": true
   },
   "source": [
    "# Energy Data \n",
    "Jan 11 2016 - May 27 2016\n",
    "\n",
    "144 measure per day\n",
    "\n",
    "1008 per week\n",
    "\n",
    "4032 per month"
   ]
  },
  {
   "cell_type": "code",
   "execution_count": 6,
   "metadata": {},
   "outputs": [
    {
     "name": "stdout",
     "output_type": "stream",
     "text": [
      "<class 'pandas.core.frame.DataFrame'>\n",
      "RangeIndex: 19735 entries, 0 to 19734\n",
      "Data columns (total 29 columns):\n",
      "date           19735 non-null object\n",
      "Appliances     19735 non-null int64\n",
      "lights         19735 non-null int64\n",
      "T1             19735 non-null float64\n",
      "RH_1           19735 non-null float64\n",
      "T2             19735 non-null float64\n",
      "RH_2           19735 non-null float64\n",
      "T3             19735 non-null float64\n",
      "RH_3           19735 non-null float64\n",
      "T4             19735 non-null float64\n",
      "RH_4           19735 non-null float64\n",
      "T5             19735 non-null float64\n",
      "RH_5           19735 non-null float64\n",
      "T6             19735 non-null float64\n",
      "RH_6           19735 non-null float64\n",
      "T7             19735 non-null float64\n",
      "RH_7           19735 non-null float64\n",
      "T8             19735 non-null float64\n",
      "RH_8           19735 non-null float64\n",
      "T9             19735 non-null float64\n",
      "RH_9           19735 non-null float64\n",
      "T_out          19735 non-null float64\n",
      "Press_mm_hg    19735 non-null float64\n",
      "RH_out         19735 non-null float64\n",
      "Windspeed      19735 non-null float64\n",
      "Visibility     19735 non-null float64\n",
      "Tdewpoint      19735 non-null float64\n",
      "rv1            19735 non-null float64\n",
      "rv2            19735 non-null float64\n",
      "dtypes: float64(26), int64(2), object(1)\n",
      "memory usage: 4.4+ MB\n"
     ]
    }
   ],
   "source": [
    "energy_data.info()"
   ]
  },
  {
   "cell_type": "code",
   "execution_count": 7,
   "metadata": {
    "scrolled": true
   },
   "outputs": [
    {
     "data": {
      "text/html": [
       "<div>\n",
       "<style scoped>\n",
       "    .dataframe tbody tr th:only-of-type {\n",
       "        vertical-align: middle;\n",
       "    }\n",
       "\n",
       "    .dataframe tbody tr th {\n",
       "        vertical-align: top;\n",
       "    }\n",
       "\n",
       "    .dataframe thead th {\n",
       "        text-align: right;\n",
       "    }\n",
       "</style>\n",
       "<table border=\"1\" class=\"dataframe\">\n",
       "  <thead>\n",
       "    <tr style=\"text-align: right;\">\n",
       "      <th></th>\n",
       "      <th>Appliances</th>\n",
       "      <th>lights</th>\n",
       "      <th>T1</th>\n",
       "      <th>RH_1</th>\n",
       "      <th>T2</th>\n",
       "      <th>RH_2</th>\n",
       "      <th>T3</th>\n",
       "      <th>RH_3</th>\n",
       "      <th>T4</th>\n",
       "      <th>RH_4</th>\n",
       "      <th>...</th>\n",
       "      <th>T9</th>\n",
       "      <th>RH_9</th>\n",
       "      <th>T_out</th>\n",
       "      <th>Press_mm_hg</th>\n",
       "      <th>RH_out</th>\n",
       "      <th>Windspeed</th>\n",
       "      <th>Visibility</th>\n",
       "      <th>Tdewpoint</th>\n",
       "      <th>rv1</th>\n",
       "      <th>rv2</th>\n",
       "    </tr>\n",
       "  </thead>\n",
       "  <tbody>\n",
       "    <tr>\n",
       "      <th>count</th>\n",
       "      <td>19735.000000</td>\n",
       "      <td>19735.000000</td>\n",
       "      <td>19735.000000</td>\n",
       "      <td>19735.000000</td>\n",
       "      <td>19735.000000</td>\n",
       "      <td>19735.000000</td>\n",
       "      <td>19735.000000</td>\n",
       "      <td>19735.000000</td>\n",
       "      <td>19735.000000</td>\n",
       "      <td>19735.000000</td>\n",
       "      <td>...</td>\n",
       "      <td>19735.000000</td>\n",
       "      <td>19735.000000</td>\n",
       "      <td>19735.000000</td>\n",
       "      <td>19735.000000</td>\n",
       "      <td>19735.000000</td>\n",
       "      <td>19735.000000</td>\n",
       "      <td>19735.000000</td>\n",
       "      <td>19735.000000</td>\n",
       "      <td>19735.000000</td>\n",
       "      <td>19735.000000</td>\n",
       "    </tr>\n",
       "    <tr>\n",
       "      <th>mean</th>\n",
       "      <td>97.694958</td>\n",
       "      <td>3.801875</td>\n",
       "      <td>21.686571</td>\n",
       "      <td>40.259739</td>\n",
       "      <td>20.341219</td>\n",
       "      <td>40.420420</td>\n",
       "      <td>22.267611</td>\n",
       "      <td>39.242500</td>\n",
       "      <td>20.855335</td>\n",
       "      <td>39.026904</td>\n",
       "      <td>...</td>\n",
       "      <td>19.485828</td>\n",
       "      <td>41.552401</td>\n",
       "      <td>7.411665</td>\n",
       "      <td>755.522602</td>\n",
       "      <td>79.750418</td>\n",
       "      <td>4.039752</td>\n",
       "      <td>38.330834</td>\n",
       "      <td>3.760707</td>\n",
       "      <td>24.988033</td>\n",
       "      <td>24.988033</td>\n",
       "    </tr>\n",
       "    <tr>\n",
       "      <th>std</th>\n",
       "      <td>102.524891</td>\n",
       "      <td>7.935988</td>\n",
       "      <td>1.606066</td>\n",
       "      <td>3.979299</td>\n",
       "      <td>2.192974</td>\n",
       "      <td>4.069813</td>\n",
       "      <td>2.006111</td>\n",
       "      <td>3.254576</td>\n",
       "      <td>2.042884</td>\n",
       "      <td>4.341321</td>\n",
       "      <td>...</td>\n",
       "      <td>2.014712</td>\n",
       "      <td>4.151497</td>\n",
       "      <td>5.317409</td>\n",
       "      <td>7.399441</td>\n",
       "      <td>14.901088</td>\n",
       "      <td>2.451221</td>\n",
       "      <td>11.794719</td>\n",
       "      <td>4.194648</td>\n",
       "      <td>14.496634</td>\n",
       "      <td>14.496634</td>\n",
       "    </tr>\n",
       "    <tr>\n",
       "      <th>min</th>\n",
       "      <td>10.000000</td>\n",
       "      <td>0.000000</td>\n",
       "      <td>16.790000</td>\n",
       "      <td>27.023333</td>\n",
       "      <td>16.100000</td>\n",
       "      <td>20.463333</td>\n",
       "      <td>17.200000</td>\n",
       "      <td>28.766667</td>\n",
       "      <td>15.100000</td>\n",
       "      <td>27.660000</td>\n",
       "      <td>...</td>\n",
       "      <td>14.890000</td>\n",
       "      <td>29.166667</td>\n",
       "      <td>-5.000000</td>\n",
       "      <td>729.300000</td>\n",
       "      <td>24.000000</td>\n",
       "      <td>0.000000</td>\n",
       "      <td>1.000000</td>\n",
       "      <td>-6.600000</td>\n",
       "      <td>0.005322</td>\n",
       "      <td>0.005322</td>\n",
       "    </tr>\n",
       "    <tr>\n",
       "      <th>25%</th>\n",
       "      <td>50.000000</td>\n",
       "      <td>0.000000</td>\n",
       "      <td>20.760000</td>\n",
       "      <td>37.333333</td>\n",
       "      <td>18.790000</td>\n",
       "      <td>37.900000</td>\n",
       "      <td>20.790000</td>\n",
       "      <td>36.900000</td>\n",
       "      <td>19.530000</td>\n",
       "      <td>35.530000</td>\n",
       "      <td>...</td>\n",
       "      <td>18.000000</td>\n",
       "      <td>38.500000</td>\n",
       "      <td>3.666667</td>\n",
       "      <td>750.933333</td>\n",
       "      <td>70.333333</td>\n",
       "      <td>2.000000</td>\n",
       "      <td>29.000000</td>\n",
       "      <td>0.900000</td>\n",
       "      <td>12.497889</td>\n",
       "      <td>12.497889</td>\n",
       "    </tr>\n",
       "    <tr>\n",
       "      <th>50%</th>\n",
       "      <td>60.000000</td>\n",
       "      <td>0.000000</td>\n",
       "      <td>21.600000</td>\n",
       "      <td>39.656667</td>\n",
       "      <td>20.000000</td>\n",
       "      <td>40.500000</td>\n",
       "      <td>22.100000</td>\n",
       "      <td>38.530000</td>\n",
       "      <td>20.666667</td>\n",
       "      <td>38.400000</td>\n",
       "      <td>...</td>\n",
       "      <td>19.390000</td>\n",
       "      <td>40.900000</td>\n",
       "      <td>6.916667</td>\n",
       "      <td>756.100000</td>\n",
       "      <td>83.666667</td>\n",
       "      <td>3.666667</td>\n",
       "      <td>40.000000</td>\n",
       "      <td>3.433333</td>\n",
       "      <td>24.897653</td>\n",
       "      <td>24.897653</td>\n",
       "    </tr>\n",
       "    <tr>\n",
       "      <th>75%</th>\n",
       "      <td>100.000000</td>\n",
       "      <td>0.000000</td>\n",
       "      <td>22.600000</td>\n",
       "      <td>43.066667</td>\n",
       "      <td>21.500000</td>\n",
       "      <td>43.260000</td>\n",
       "      <td>23.290000</td>\n",
       "      <td>41.760000</td>\n",
       "      <td>22.100000</td>\n",
       "      <td>42.156667</td>\n",
       "      <td>...</td>\n",
       "      <td>20.600000</td>\n",
       "      <td>44.338095</td>\n",
       "      <td>10.408333</td>\n",
       "      <td>760.933333</td>\n",
       "      <td>91.666667</td>\n",
       "      <td>5.500000</td>\n",
       "      <td>40.000000</td>\n",
       "      <td>6.566667</td>\n",
       "      <td>37.583769</td>\n",
       "      <td>37.583769</td>\n",
       "    </tr>\n",
       "    <tr>\n",
       "      <th>max</th>\n",
       "      <td>1080.000000</td>\n",
       "      <td>70.000000</td>\n",
       "      <td>26.260000</td>\n",
       "      <td>63.360000</td>\n",
       "      <td>29.856667</td>\n",
       "      <td>56.026667</td>\n",
       "      <td>29.236000</td>\n",
       "      <td>50.163333</td>\n",
       "      <td>26.200000</td>\n",
       "      <td>51.090000</td>\n",
       "      <td>...</td>\n",
       "      <td>24.500000</td>\n",
       "      <td>53.326667</td>\n",
       "      <td>26.100000</td>\n",
       "      <td>772.300000</td>\n",
       "      <td>100.000000</td>\n",
       "      <td>14.000000</td>\n",
       "      <td>66.000000</td>\n",
       "      <td>15.500000</td>\n",
       "      <td>49.996530</td>\n",
       "      <td>49.996530</td>\n",
       "    </tr>\n",
       "  </tbody>\n",
       "</table>\n",
       "<p>8 rows × 28 columns</p>\n",
       "</div>"
      ],
      "text/plain": [
       "         Appliances        lights            T1          RH_1            T2  \\\n",
       "count  19735.000000  19735.000000  19735.000000  19735.000000  19735.000000   \n",
       "mean      97.694958      3.801875     21.686571     40.259739     20.341219   \n",
       "std      102.524891      7.935988      1.606066      3.979299      2.192974   \n",
       "min       10.000000      0.000000     16.790000     27.023333     16.100000   \n",
       "25%       50.000000      0.000000     20.760000     37.333333     18.790000   \n",
       "50%       60.000000      0.000000     21.600000     39.656667     20.000000   \n",
       "75%      100.000000      0.000000     22.600000     43.066667     21.500000   \n",
       "max     1080.000000     70.000000     26.260000     63.360000     29.856667   \n",
       "\n",
       "               RH_2            T3          RH_3            T4          RH_4  \\\n",
       "count  19735.000000  19735.000000  19735.000000  19735.000000  19735.000000   \n",
       "mean      40.420420     22.267611     39.242500     20.855335     39.026904   \n",
       "std        4.069813      2.006111      3.254576      2.042884      4.341321   \n",
       "min       20.463333     17.200000     28.766667     15.100000     27.660000   \n",
       "25%       37.900000     20.790000     36.900000     19.530000     35.530000   \n",
       "50%       40.500000     22.100000     38.530000     20.666667     38.400000   \n",
       "75%       43.260000     23.290000     41.760000     22.100000     42.156667   \n",
       "max       56.026667     29.236000     50.163333     26.200000     51.090000   \n",
       "\n",
       "           ...                 T9          RH_9         T_out   Press_mm_hg  \\\n",
       "count      ...       19735.000000  19735.000000  19735.000000  19735.000000   \n",
       "mean       ...          19.485828     41.552401      7.411665    755.522602   \n",
       "std        ...           2.014712      4.151497      5.317409      7.399441   \n",
       "min        ...          14.890000     29.166667     -5.000000    729.300000   \n",
       "25%        ...          18.000000     38.500000      3.666667    750.933333   \n",
       "50%        ...          19.390000     40.900000      6.916667    756.100000   \n",
       "75%        ...          20.600000     44.338095     10.408333    760.933333   \n",
       "max        ...          24.500000     53.326667     26.100000    772.300000   \n",
       "\n",
       "             RH_out     Windspeed    Visibility     Tdewpoint           rv1  \\\n",
       "count  19735.000000  19735.000000  19735.000000  19735.000000  19735.000000   \n",
       "mean      79.750418      4.039752     38.330834      3.760707     24.988033   \n",
       "std       14.901088      2.451221     11.794719      4.194648     14.496634   \n",
       "min       24.000000      0.000000      1.000000     -6.600000      0.005322   \n",
       "25%       70.333333      2.000000     29.000000      0.900000     12.497889   \n",
       "50%       83.666667      3.666667     40.000000      3.433333     24.897653   \n",
       "75%       91.666667      5.500000     40.000000      6.566667     37.583769   \n",
       "max      100.000000     14.000000     66.000000     15.500000     49.996530   \n",
       "\n",
       "                rv2  \n",
       "count  19735.000000  \n",
       "mean      24.988033  \n",
       "std       14.496634  \n",
       "min        0.005322  \n",
       "25%       12.497889  \n",
       "50%       24.897653  \n",
       "75%       37.583769  \n",
       "max       49.996530  \n",
       "\n",
       "[8 rows x 28 columns]"
      ]
     },
     "execution_count": 7,
     "metadata": {},
     "output_type": "execute_result"
    }
   ],
   "source": [
    "energy_data.describe()"
   ]
  },
  {
   "cell_type": "markdown",
   "metadata": {},
   "source": [
    "## Date Format\n",
    "Format all the dates into a datetime for timemseries stuff, and get Weekday/Weekend classifications"
   ]
  },
  {
   "cell_type": "code",
   "execution_count": 8,
   "metadata": {},
   "outputs": [
    {
     "data": {
      "text/html": [
       "<div>\n",
       "<style scoped>\n",
       "    .dataframe tbody tr th:only-of-type {\n",
       "        vertical-align: middle;\n",
       "    }\n",
       "\n",
       "    .dataframe tbody tr th {\n",
       "        vertical-align: top;\n",
       "    }\n",
       "\n",
       "    .dataframe thead th {\n",
       "        text-align: right;\n",
       "    }\n",
       "</style>\n",
       "<table border=\"1\" class=\"dataframe\">\n",
       "  <thead>\n",
       "    <tr style=\"text-align: right;\">\n",
       "      <th></th>\n",
       "      <th>date</th>\n",
       "      <th>Appliances</th>\n",
       "      <th>lights</th>\n",
       "      <th>T1</th>\n",
       "      <th>RH_1</th>\n",
       "      <th>T2</th>\n",
       "      <th>RH_2</th>\n",
       "      <th>T3</th>\n",
       "      <th>RH_3</th>\n",
       "      <th>T4</th>\n",
       "      <th>...</th>\n",
       "      <th>RH_9</th>\n",
       "      <th>T_out</th>\n",
       "      <th>Press_mm_hg</th>\n",
       "      <th>RH_out</th>\n",
       "      <th>Windspeed</th>\n",
       "      <th>Visibility</th>\n",
       "      <th>Tdewpoint</th>\n",
       "      <th>rv1</th>\n",
       "      <th>rv2</th>\n",
       "      <th>ticks</th>\n",
       "    </tr>\n",
       "  </thead>\n",
       "  <tbody>\n",
       "    <tr>\n",
       "      <th>0</th>\n",
       "      <td>2016-01-11 17:00:00</td>\n",
       "      <td>60</td>\n",
       "      <td>30</td>\n",
       "      <td>19.89</td>\n",
       "      <td>47.596667</td>\n",
       "      <td>19.2</td>\n",
       "      <td>44.790000</td>\n",
       "      <td>19.79</td>\n",
       "      <td>44.730000</td>\n",
       "      <td>19.000000</td>\n",
       "      <td>...</td>\n",
       "      <td>45.53</td>\n",
       "      <td>6.600000</td>\n",
       "      <td>733.5</td>\n",
       "      <td>92.0</td>\n",
       "      <td>7.000000</td>\n",
       "      <td>63.000000</td>\n",
       "      <td>5.3</td>\n",
       "      <td>13.275433</td>\n",
       "      <td>13.275433</td>\n",
       "      <td>0</td>\n",
       "    </tr>\n",
       "    <tr>\n",
       "      <th>1</th>\n",
       "      <td>2016-01-11 17:10:00</td>\n",
       "      <td>60</td>\n",
       "      <td>30</td>\n",
       "      <td>19.89</td>\n",
       "      <td>46.693333</td>\n",
       "      <td>19.2</td>\n",
       "      <td>44.722500</td>\n",
       "      <td>19.79</td>\n",
       "      <td>44.790000</td>\n",
       "      <td>19.000000</td>\n",
       "      <td>...</td>\n",
       "      <td>45.56</td>\n",
       "      <td>6.483333</td>\n",
       "      <td>733.6</td>\n",
       "      <td>92.0</td>\n",
       "      <td>6.666667</td>\n",
       "      <td>59.166667</td>\n",
       "      <td>5.2</td>\n",
       "      <td>18.606195</td>\n",
       "      <td>18.606195</td>\n",
       "      <td>1</td>\n",
       "    </tr>\n",
       "    <tr>\n",
       "      <th>2</th>\n",
       "      <td>2016-01-11 17:20:00</td>\n",
       "      <td>50</td>\n",
       "      <td>30</td>\n",
       "      <td>19.89</td>\n",
       "      <td>46.300000</td>\n",
       "      <td>19.2</td>\n",
       "      <td>44.626667</td>\n",
       "      <td>19.79</td>\n",
       "      <td>44.933333</td>\n",
       "      <td>18.926667</td>\n",
       "      <td>...</td>\n",
       "      <td>45.50</td>\n",
       "      <td>6.366667</td>\n",
       "      <td>733.7</td>\n",
       "      <td>92.0</td>\n",
       "      <td>6.333333</td>\n",
       "      <td>55.333333</td>\n",
       "      <td>5.1</td>\n",
       "      <td>28.642668</td>\n",
       "      <td>28.642668</td>\n",
       "      <td>2</td>\n",
       "    </tr>\n",
       "    <tr>\n",
       "      <th>3</th>\n",
       "      <td>2016-01-11 17:30:00</td>\n",
       "      <td>50</td>\n",
       "      <td>40</td>\n",
       "      <td>19.89</td>\n",
       "      <td>46.066667</td>\n",
       "      <td>19.2</td>\n",
       "      <td>44.590000</td>\n",
       "      <td>19.79</td>\n",
       "      <td>45.000000</td>\n",
       "      <td>18.890000</td>\n",
       "      <td>...</td>\n",
       "      <td>45.40</td>\n",
       "      <td>6.250000</td>\n",
       "      <td>733.8</td>\n",
       "      <td>92.0</td>\n",
       "      <td>6.000000</td>\n",
       "      <td>51.500000</td>\n",
       "      <td>5.0</td>\n",
       "      <td>45.410389</td>\n",
       "      <td>45.410389</td>\n",
       "      <td>3</td>\n",
       "    </tr>\n",
       "    <tr>\n",
       "      <th>4</th>\n",
       "      <td>2016-01-11 17:40:00</td>\n",
       "      <td>60</td>\n",
       "      <td>40</td>\n",
       "      <td>19.89</td>\n",
       "      <td>46.333333</td>\n",
       "      <td>19.2</td>\n",
       "      <td>44.530000</td>\n",
       "      <td>19.79</td>\n",
       "      <td>45.000000</td>\n",
       "      <td>18.890000</td>\n",
       "      <td>...</td>\n",
       "      <td>45.40</td>\n",
       "      <td>6.133333</td>\n",
       "      <td>733.9</td>\n",
       "      <td>92.0</td>\n",
       "      <td>5.666667</td>\n",
       "      <td>47.666667</td>\n",
       "      <td>4.9</td>\n",
       "      <td>10.084097</td>\n",
       "      <td>10.084097</td>\n",
       "      <td>4</td>\n",
       "    </tr>\n",
       "  </tbody>\n",
       "</table>\n",
       "<p>5 rows × 30 columns</p>\n",
       "</div>"
      ],
      "text/plain": [
       "                 date  Appliances  lights     T1       RH_1    T2       RH_2  \\\n",
       "0 2016-01-11 17:00:00          60      30  19.89  47.596667  19.2  44.790000   \n",
       "1 2016-01-11 17:10:00          60      30  19.89  46.693333  19.2  44.722500   \n",
       "2 2016-01-11 17:20:00          50      30  19.89  46.300000  19.2  44.626667   \n",
       "3 2016-01-11 17:30:00          50      40  19.89  46.066667  19.2  44.590000   \n",
       "4 2016-01-11 17:40:00          60      40  19.89  46.333333  19.2  44.530000   \n",
       "\n",
       "      T3       RH_3         T4  ...     RH_9     T_out  Press_mm_hg  RH_out  \\\n",
       "0  19.79  44.730000  19.000000  ...    45.53  6.600000        733.5    92.0   \n",
       "1  19.79  44.790000  19.000000  ...    45.56  6.483333        733.6    92.0   \n",
       "2  19.79  44.933333  18.926667  ...    45.50  6.366667        733.7    92.0   \n",
       "3  19.79  45.000000  18.890000  ...    45.40  6.250000        733.8    92.0   \n",
       "4  19.79  45.000000  18.890000  ...    45.40  6.133333        733.9    92.0   \n",
       "\n",
       "   Windspeed  Visibility  Tdewpoint        rv1        rv2  ticks  \n",
       "0   7.000000   63.000000        5.3  13.275433  13.275433      0  \n",
       "1   6.666667   59.166667        5.2  18.606195  18.606195      1  \n",
       "2   6.333333   55.333333        5.1  28.642668  28.642668      2  \n",
       "3   6.000000   51.500000        5.0  45.410389  45.410389      3  \n",
       "4   5.666667   47.666667        4.9  10.084097  10.084097      4  \n",
       "\n",
       "[5 rows x 30 columns]"
      ]
     },
     "execution_count": 8,
     "metadata": {},
     "output_type": "execute_result"
    }
   ],
   "source": [
    "from datetime import datetime\n",
    "\n",
    "# Convert to datetime\n",
    "# energy_data['date_fmt'] = energy_data[\"date\"].apply(lambda x: datetime.strptime(x, \"%Y-%m-%d %H:%M:%S\"))\n",
    "energy_data['date'] = energy_data[\"date\"].apply(lambda x: datetime.strptime(x, \"%Y-%m-%d %H:%M:%S\"))\n",
    "\n",
    "# Index and sort\n",
    "# energy_data.set_index('date_fmt')\n",
    "energy_data.set_index('date')\n",
    "energy_data.sort_index(inplace=True)\n",
    "\n",
    "# Ticks\n",
    "energy_data['ticks'] = range(0, len(energy_data.index.values))\n",
    "energy_data.head()"
   ]
  },
  {
   "cell_type": "code",
   "execution_count": 9,
   "metadata": {},
   "outputs": [],
   "source": [
    "# Classify Weekend vs Weekday\n",
    "# results w/ Monday at 0\n",
    "\n",
    "# This func is for labels if needed\n",
    "def get_day(date):\n",
    "    day_int = date.weekday()\n",
    "    \n",
    "    day_switch = {\n",
    "        0: \"Monday\",\n",
    "        1: \"Tuesday\",\n",
    "        2: \"Wednesday\",\n",
    "        3: \"Thursday\",\n",
    "        4: \"Friday\",\n",
    "        5: \"Saturday\",\n",
    "        6: \"Sunday\"\n",
    "    }\n",
    "    return day_switch.get(day_int, \"Invalid day\")\n",
    "\n",
    "# Just need datetime.weekday for #\n",
    "energy_data[\"day_of_week_class\"] = energy_data[\"date\"].apply(datetime.weekday)\n",
    "\n"
   ]
  },
  {
   "cell_type": "code",
   "execution_count": 10,
   "metadata": {},
   "outputs": [
    {
     "data": {
      "text/plain": [
       "3    2880\n",
       "2    2880\n",
       "1    2880\n",
       "4    2845\n",
       "0    2778\n",
       "6    2736\n",
       "5    2736\n",
       "Name: day_of_week_class, dtype: int64"
      ]
     },
     "execution_count": 10,
     "metadata": {},
     "output_type": "execute_result"
    }
   ],
   "source": [
    "energy_data[\"day_of_week_class\"].value_counts()"
   ]
  },
  {
   "cell_type": "markdown",
   "metadata": {},
   "source": [
    "# TODO: Should have event day counts, correct?\n",
    "\n",
    "Actually may be fine as long as dif < 144*2"
   ]
  },
  {
   "cell_type": "code",
   "execution_count": 11,
   "metadata": {},
   "outputs": [],
   "source": [
    "# 0 is weekday\n",
    "def weekend_weekday(date):\n",
    "    if date.weekday() == 5 or date.weekday() == 6:\n",
    "        return 1\n",
    "    else:\n",
    "        return 0\n",
    "\n",
    "energy_data[\"weekend_class\"] = energy_data[\"date\"].apply(weekend_weekday)"
   ]
  },
  {
   "cell_type": "code",
   "execution_count": 12,
   "metadata": {},
   "outputs": [
    {
     "data": {
      "text/plain": [
       "0    14263\n",
       "1     5472\n",
       "Name: weekend_class, dtype: int64"
      ]
     },
     "execution_count": 12,
     "metadata": {},
     "output_type": "execute_result"
    }
   ],
   "source": [
    "energy_data[\"weekend_class\"].value_counts()"
   ]
  },
  {
   "cell_type": "markdown",
   "metadata": {},
   "source": [
    "# Validation\n",
    "\n",
    "Lets set aside the last month"
   ]
  },
  {
   "cell_type": "code",
   "execution_count": 13,
   "metadata": {},
   "outputs": [],
   "source": [
    "# TODO: Input validations\n",
    "def timeseries_validation_split(series, percent):\n",
    "    size = len(series.index)\n",
    "    factor = (100 - percent) / 100\n",
    "    split_index = (int)(size * factor)\n",
    "    \n",
    "    train, validate = series[0:split_index], series[split_index:]\n",
    "    \n",
    "    return train, validate\n",
    "    #return series[0:split_index], series[split_index:]"
   ]
  },
  {
   "cell_type": "code",
   "execution_count": 14,
   "metadata": {},
   "outputs": [
    {
     "name": "stdout",
     "output_type": "stream",
     "text": [
      "15788\n",
      "3947\n"
     ]
    }
   ],
   "source": [
    "#energy_data_test, energy_data_validation = energy_data[0:15702], energy_data[15702:]\n",
    "#energy_data_validation.describe()\n",
    "\n",
    "energy_data_test, energy_data_validation = timeseries_validation_split(energy_data, 20)\n",
    "print(len(energy_data_test.index))\n",
    "print(len(energy_data_validation.index))\n",
    "\n",
    "energy_data = energy_data_test"
   ]
  },
  {
   "cell_type": "code",
   "execution_count": 15,
   "metadata": {
    "scrolled": true
   },
   "outputs": [
    {
     "data": {
      "text/html": [
       "<div>\n",
       "<style scoped>\n",
       "    .dataframe tbody tr th:only-of-type {\n",
       "        vertical-align: middle;\n",
       "    }\n",
       "\n",
       "    .dataframe tbody tr th {\n",
       "        vertical-align: top;\n",
       "    }\n",
       "\n",
       "    .dataframe thead th {\n",
       "        text-align: right;\n",
       "    }\n",
       "</style>\n",
       "<table border=\"1\" class=\"dataframe\">\n",
       "  <thead>\n",
       "    <tr style=\"text-align: right;\">\n",
       "      <th></th>\n",
       "      <th>Appliances</th>\n",
       "      <th>lights</th>\n",
       "      <th>T1</th>\n",
       "      <th>RH_1</th>\n",
       "      <th>T2</th>\n",
       "      <th>RH_2</th>\n",
       "      <th>T3</th>\n",
       "      <th>RH_3</th>\n",
       "      <th>T4</th>\n",
       "      <th>RH_4</th>\n",
       "      <th>...</th>\n",
       "      <th>Press_mm_hg</th>\n",
       "      <th>RH_out</th>\n",
       "      <th>Windspeed</th>\n",
       "      <th>Visibility</th>\n",
       "      <th>Tdewpoint</th>\n",
       "      <th>rv1</th>\n",
       "      <th>rv2</th>\n",
       "      <th>ticks</th>\n",
       "      <th>day_of_week_class</th>\n",
       "      <th>weekend_class</th>\n",
       "    </tr>\n",
       "  </thead>\n",
       "  <tbody>\n",
       "    <tr>\n",
       "      <th>count</th>\n",
       "      <td>15788.000000</td>\n",
       "      <td>15788.000000</td>\n",
       "      <td>15788.000000</td>\n",
       "      <td>15788.000000</td>\n",
       "      <td>15788.000000</td>\n",
       "      <td>15788.000000</td>\n",
       "      <td>15788.000000</td>\n",
       "      <td>15788.000000</td>\n",
       "      <td>15788.000000</td>\n",
       "      <td>15788.000000</td>\n",
       "      <td>...</td>\n",
       "      <td>15788.000000</td>\n",
       "      <td>15788.000000</td>\n",
       "      <td>15788.000000</td>\n",
       "      <td>15788.000000</td>\n",
       "      <td>15788.000000</td>\n",
       "      <td>15788.000000</td>\n",
       "      <td>15788.000000</td>\n",
       "      <td>15788.00000</td>\n",
       "      <td>15788.000000</td>\n",
       "      <td>15788.000000</td>\n",
       "    </tr>\n",
       "    <tr>\n",
       "      <th>mean</th>\n",
       "      <td>98.024449</td>\n",
       "      <td>4.314036</td>\n",
       "      <td>21.152184</td>\n",
       "      <td>40.037455</td>\n",
       "      <td>19.631593</td>\n",
       "      <td>40.556150</td>\n",
       "      <td>21.588743</td>\n",
       "      <td>39.339250</td>\n",
       "      <td>20.148708</td>\n",
       "      <td>38.917235</td>\n",
       "      <td>...</td>\n",
       "      <td>755.401923</td>\n",
       "      <td>81.834642</td>\n",
       "      <td>4.276856</td>\n",
       "      <td>38.672314</td>\n",
       "      <td>2.731101</td>\n",
       "      <td>25.025954</td>\n",
       "      <td>25.025954</td>\n",
       "      <td>7893.50000</td>\n",
       "      <td>2.980111</td>\n",
       "      <td>0.276793</td>\n",
       "    </tr>\n",
       "    <tr>\n",
       "      <th>std</th>\n",
       "      <td>105.198291</td>\n",
       "      <td>8.363499</td>\n",
       "      <td>1.214241</td>\n",
       "      <td>3.593212</td>\n",
       "      <td>1.516601</td>\n",
       "      <td>3.396775</td>\n",
       "      <td>1.498186</td>\n",
       "      <td>3.205111</td>\n",
       "      <td>1.508309</td>\n",
       "      <td>4.276400</td>\n",
       "      <td>...</td>\n",
       "      <td>7.778350</td>\n",
       "      <td>12.920004</td>\n",
       "      <td>2.555565</td>\n",
       "      <td>12.402705</td>\n",
       "      <td>3.523068</td>\n",
       "      <td>14.521067</td>\n",
       "      <td>14.521067</td>\n",
       "      <td>4557.74736</td>\n",
       "      <td>1.980390</td>\n",
       "      <td>0.447427</td>\n",
       "    </tr>\n",
       "    <tr>\n",
       "      <th>min</th>\n",
       "      <td>10.000000</td>\n",
       "      <td>0.000000</td>\n",
       "      <td>16.790000</td>\n",
       "      <td>27.733333</td>\n",
       "      <td>16.100000</td>\n",
       "      <td>25.763333</td>\n",
       "      <td>17.200000</td>\n",
       "      <td>32.626667</td>\n",
       "      <td>15.100000</td>\n",
       "      <td>27.660000</td>\n",
       "      <td>...</td>\n",
       "      <td>729.300000</td>\n",
       "      <td>31.000000</td>\n",
       "      <td>0.000000</td>\n",
       "      <td>1.000000</td>\n",
       "      <td>-6.600000</td>\n",
       "      <td>0.005322</td>\n",
       "      <td>0.005322</td>\n",
       "      <td>0.00000</td>\n",
       "      <td>0.000000</td>\n",
       "      <td>0.000000</td>\n",
       "    </tr>\n",
       "    <tr>\n",
       "      <th>25%</th>\n",
       "      <td>50.000000</td>\n",
       "      <td>0.000000</td>\n",
       "      <td>20.500000</td>\n",
       "      <td>37.290000</td>\n",
       "      <td>18.566667</td>\n",
       "      <td>38.266667</td>\n",
       "      <td>20.500000</td>\n",
       "      <td>36.966667</td>\n",
       "      <td>19.200000</td>\n",
       "      <td>35.462500</td>\n",
       "      <td>...</td>\n",
       "      <td>750.600000</td>\n",
       "      <td>73.333333</td>\n",
       "      <td>2.000000</td>\n",
       "      <td>29.000000</td>\n",
       "      <td>0.400000</td>\n",
       "      <td>12.585736</td>\n",
       "      <td>12.585736</td>\n",
       "      <td>3946.75000</td>\n",
       "      <td>1.000000</td>\n",
       "      <td>0.000000</td>\n",
       "    </tr>\n",
       "    <tr>\n",
       "      <th>50%</th>\n",
       "      <td>60.000000</td>\n",
       "      <td>0.000000</td>\n",
       "      <td>21.290000</td>\n",
       "      <td>39.530000</td>\n",
       "      <td>19.566667</td>\n",
       "      <td>40.560000</td>\n",
       "      <td>21.633333</td>\n",
       "      <td>38.633333</td>\n",
       "      <td>20.260000</td>\n",
       "      <td>38.290000</td>\n",
       "      <td>...</td>\n",
       "      <td>755.933333</td>\n",
       "      <td>85.333333</td>\n",
       "      <td>4.000000</td>\n",
       "      <td>40.000000</td>\n",
       "      <td>2.757143</td>\n",
       "      <td>24.917394</td>\n",
       "      <td>24.917394</td>\n",
       "      <td>7893.50000</td>\n",
       "      <td>3.000000</td>\n",
       "      <td>0.000000</td>\n",
       "    </tr>\n",
       "    <tr>\n",
       "      <th>75%</th>\n",
       "      <td>100.000000</td>\n",
       "      <td>10.000000</td>\n",
       "      <td>22.000000</td>\n",
       "      <td>42.722708</td>\n",
       "      <td>20.600000</td>\n",
       "      <td>43.126667</td>\n",
       "      <td>22.600000</td>\n",
       "      <td>41.790000</td>\n",
       "      <td>21.200000</td>\n",
       "      <td>41.863333</td>\n",
       "      <td>...</td>\n",
       "      <td>761.366667</td>\n",
       "      <td>92.000000</td>\n",
       "      <td>6.000000</td>\n",
       "      <td>40.000000</td>\n",
       "      <td>5.200000</td>\n",
       "      <td>37.733747</td>\n",
       "      <td>37.733747</td>\n",
       "      <td>11840.25000</td>\n",
       "      <td>5.000000</td>\n",
       "      <td>1.000000</td>\n",
       "    </tr>\n",
       "    <tr>\n",
       "      <th>max</th>\n",
       "      <td>1080.000000</td>\n",
       "      <td>70.000000</td>\n",
       "      <td>24.100000</td>\n",
       "      <td>63.360000</td>\n",
       "      <td>24.600000</td>\n",
       "      <td>56.026667</td>\n",
       "      <td>27.600000</td>\n",
       "      <td>50.163333</td>\n",
       "      <td>23.760000</td>\n",
       "      <td>51.090000</td>\n",
       "      <td>...</td>\n",
       "      <td>772.300000</td>\n",
       "      <td>100.000000</td>\n",
       "      <td>14.000000</td>\n",
       "      <td>66.000000</td>\n",
       "      <td>11.400000</td>\n",
       "      <td>49.996530</td>\n",
       "      <td>49.996530</td>\n",
       "      <td>15787.00000</td>\n",
       "      <td>6.000000</td>\n",
       "      <td>1.000000</td>\n",
       "    </tr>\n",
       "  </tbody>\n",
       "</table>\n",
       "<p>8 rows × 31 columns</p>\n",
       "</div>"
      ],
      "text/plain": [
       "         Appliances        lights            T1          RH_1            T2  \\\n",
       "count  15788.000000  15788.000000  15788.000000  15788.000000  15788.000000   \n",
       "mean      98.024449      4.314036     21.152184     40.037455     19.631593   \n",
       "std      105.198291      8.363499      1.214241      3.593212      1.516601   \n",
       "min       10.000000      0.000000     16.790000     27.733333     16.100000   \n",
       "25%       50.000000      0.000000     20.500000     37.290000     18.566667   \n",
       "50%       60.000000      0.000000     21.290000     39.530000     19.566667   \n",
       "75%      100.000000     10.000000     22.000000     42.722708     20.600000   \n",
       "max     1080.000000     70.000000     24.100000     63.360000     24.600000   \n",
       "\n",
       "               RH_2            T3          RH_3            T4          RH_4  \\\n",
       "count  15788.000000  15788.000000  15788.000000  15788.000000  15788.000000   \n",
       "mean      40.556150     21.588743     39.339250     20.148708     38.917235   \n",
       "std        3.396775      1.498186      3.205111      1.508309      4.276400   \n",
       "min       25.763333     17.200000     32.626667     15.100000     27.660000   \n",
       "25%       38.266667     20.500000     36.966667     19.200000     35.462500   \n",
       "50%       40.560000     21.633333     38.633333     20.260000     38.290000   \n",
       "75%       43.126667     22.600000     41.790000     21.200000     41.863333   \n",
       "max       56.026667     27.600000     50.163333     23.760000     51.090000   \n",
       "\n",
       "           ...         Press_mm_hg        RH_out     Windspeed    Visibility  \\\n",
       "count      ...        15788.000000  15788.000000  15788.000000  15788.000000   \n",
       "mean       ...          755.401923     81.834642      4.276856     38.672314   \n",
       "std        ...            7.778350     12.920004      2.555565     12.402705   \n",
       "min        ...          729.300000     31.000000      0.000000      1.000000   \n",
       "25%        ...          750.600000     73.333333      2.000000     29.000000   \n",
       "50%        ...          755.933333     85.333333      4.000000     40.000000   \n",
       "75%        ...          761.366667     92.000000      6.000000     40.000000   \n",
       "max        ...          772.300000    100.000000     14.000000     66.000000   \n",
       "\n",
       "          Tdewpoint           rv1           rv2        ticks  \\\n",
       "count  15788.000000  15788.000000  15788.000000  15788.00000   \n",
       "mean       2.731101     25.025954     25.025954   7893.50000   \n",
       "std        3.523068     14.521067     14.521067   4557.74736   \n",
       "min       -6.600000      0.005322      0.005322      0.00000   \n",
       "25%        0.400000     12.585736     12.585736   3946.75000   \n",
       "50%        2.757143     24.917394     24.917394   7893.50000   \n",
       "75%        5.200000     37.733747     37.733747  11840.25000   \n",
       "max       11.400000     49.996530     49.996530  15787.00000   \n",
       "\n",
       "       day_of_week_class  weekend_class  \n",
       "count       15788.000000   15788.000000  \n",
       "mean            2.980111       0.276793  \n",
       "std             1.980390       0.447427  \n",
       "min             0.000000       0.000000  \n",
       "25%             1.000000       0.000000  \n",
       "50%             3.000000       0.000000  \n",
       "75%             5.000000       1.000000  \n",
       "max             6.000000       1.000000  \n",
       "\n",
       "[8 rows x 31 columns]"
      ]
     },
     "execution_count": 15,
     "metadata": {},
     "output_type": "execute_result"
    }
   ],
   "source": [
    "energy_data.describe()"
   ]
  },
  {
   "cell_type": "code",
   "execution_count": 16,
   "metadata": {},
   "outputs": [
    {
     "data": {
      "image/png": "[encoded data removed]",
      "text/plain": [
       "<matplotlib.figure.Figure at 0x7fc1effc8278>"
      ]
     },
     "metadata": {},
     "output_type": "display_data"
    }
   ],
   "source": [
    "%matplotlib inline\n",
    "import matplotlib.pyplot as plt\n",
    "energy_data.hist(bins=50, figsize=(20,15))\n",
    "plt.show()"
   ]
  },
  {
   "cell_type": "markdown",
   "metadata": {},
   "source": [
    "# Now we can observe (read: clean)\n",
    "\n",
    "Appliances: Standard Dev is high compared to mean, especially factoring in min and max. So, we will have a big initial hump (maybe close to localized normal), and some big positive outliers\n",
    "\n",
    "Lights: \n",
    "    - a lot of time on 0, maybe we can catogorize/bin this val\n",
    "    - Remove Zeroes and take a hist? => appliances?\n",
    "    \n",
    "\n",
    "Visibility: one huge bin?\n",
    "\n",
    "Windspeed: Levels?\n",
    "\n",
    "Wait to label until labels\n",
    "Temps:\n",
    "    - \"Spikey bins\"? => Equilibrium point/level?\n",
    "    - otherwise center lump\n",
    "    \n",
    "Humidity:\n",
    "    - left side lump\n",
    "    - but one is flat?\n",
    "    - definitely some cutoff\n",
    "    \n",
    "\n",
    "# TODO: \n",
    "Switch to TS Object from lib\n",
    "Make the influx cutoff from there\n",
    "\n",
    "Two sided structure: \n",
    "    - dataframe for Jupyter Analytics\n",
    "    - Array for implimented ML algorithms\n",
    "    \n"
   ]
  },
  {
   "cell_type": "code",
   "execution_count": 17,
   "metadata": {},
   "outputs": [],
   "source": [
    "# Lets break the varibales into lists\n",
    "#lumps = T-RH\n",
    "\n",
    "leveled = [\"Visibility\", \"Windspeed\", \"day_of_week_class\", \"weekend_class\"]\n",
    "dirt = [\"lights\"] #loam?\n"
   ]
  },
  {
   "cell_type": "markdown",
   "metadata": {},
   "source": [
    "## Decomposition\n",
    "https://machinelearningmastery.com/decompose-time-series-data-trend-seasonality/"
   ]
  },
  {
   "cell_type": "code",
   "execution_count": 18,
   "metadata": {},
   "outputs": [
    {
     "name": "stderr",
     "output_type": "stream",
     "text": [
      "/home/nathaniel/anaconda3/lib/python3.6/site-packages/statsmodels/compat/pandas.py:56: FutureWarning: The pandas.core.datetools module is deprecated and will be removed in a future version. Please use the pandas.tseries module instead.\n",
      "  from pandas.core import datetools\n"
     ]
    }
   ],
   "source": [
    "from random import randrange\n",
    "from pandas import Series\n",
    "from matplotlib import pyplot\n",
    "\n",
    "from statsmodels.tsa.seasonal import seasonal_decompose\n",
    "#from pandas.core import datetools\n",
    "\n",
    "from pandas import Series"
   ]
  },
  {
   "cell_type": "markdown",
   "metadata": {},
   "source": [
    "# Appliance Energy"
   ]
  },
  {
   "cell_type": "markdown",
   "metadata": {},
   "source": [
    "## Stationality\n",
    "\n",
    "## DF Test\n",
    "https://machinelearningmastery.com/time-series-data-stationary-python/"
   ]
  },
  {
   "cell_type": "code",
   "execution_count": 19,
   "metadata": {},
   "outputs": [
    {
     "name": "stdout",
     "output_type": "stream",
     "text": [
      "ADF Statistic: -19.010131\n",
      "p-value: 0.000000\n",
      "Critical Values:\n",
      "\t1%: -3.431\n",
      "\t5%: -2.862\n",
      "\t10%: -2.567\n"
     ]
    }
   ],
   "source": [
    "from statsmodels.tsa.stattools import adfuller\n",
    "\n",
    "result = adfuller(energy_data['Appliances'].values)\n",
    "print('ADF Statistic: %f' % result[0])\n",
    "print('p-value: %f' % result[1])\n",
    "print('Critical Values:')\n",
    "\n",
    "for key, value in result[4].items():\n",
    "    print('\\t%s: %.3f' % (key, value))"
   ]
  },
  {
   "cell_type": "markdown",
   "metadata": {},
   "source": [
    "### H(0): Has unit root, is non stationary\n",
    "### H(1): No unit root, is stationary"
   ]
  },
  {
   "cell_type": "markdown",
   "metadata": {},
   "source": [
    "### Reject\n",
    "This would indicate that the series is stationary"
   ]
  },
  {
   "cell_type": "markdown",
   "metadata": {},
   "source": [
    "## TATMASITAN\n",
    "Take a thousand means and see if they are normal"
   ]
  },
  {
   "cell_type": "code",
   "execution_count": 20,
   "metadata": {
    "scrolled": true
   },
   "outputs": [
    {
     "data": {
      "text/plain": [
       "<matplotlib.axes._subplots.AxesSubplot at 0x7fc1e661e9b0>"
      ]
     },
     "execution_count": 20,
     "metadata": {},
     "output_type": "execute_result"
    },
    {
     "data": {
      "image/png": "[encoded data removed]",
      "text/plain": [
       "<matplotlib.figure.Figure at 0x7fc1e661e828>"
      ]
     },
     "metadata": {},
     "output_type": "display_data"
    }
   ],
   "source": [
    "import math\n",
    "def tatm(series, n=1000):\n",
    "    means = []\n",
    "    \n",
    "    step_size = math.floor(len(series.index) / n)\n",
    "    \n",
    "    #index = 0 \n",
    "    for i in range(0, n):\n",
    "        #low = index * step_size\n",
    "        #hi = (index + 1) * step_size\n",
    "   \n",
    "        low = i * step_size\n",
    "        hi = (i + 1) * step_size\n",
    "   \n",
    "        #print(low)\n",
    "        #print(hi)\n",
    "        mean = sum(series[low:hi]) / step_size\n",
    "        means.append(mean)\n",
    "        #print(mean)\n",
    "        #print()\n",
    "        \n",
    "    return means\n",
    "\n",
    "means = Series(tatm(energy_data['Appliances'], n=1000))\n",
    "\n",
    "means.hist()"
   ]
  },
  {
   "cell_type": "markdown",
   "metadata": {},
   "source": [
    "My thought here is that of we walked through and took means all across the series, we should get a normal dist of means if the series is stationary. \n",
    "\n",
    "This looks loggy:\n",
    "    - which might mean non-stationary\n",
    "    - But, the origional function is loggy?\n",
    "    - This at least in my mind puts ADF in doubt for this series"
   ]
  },
  {
   "cell_type": "markdown",
   "metadata": {},
   "source": [
    "# Auto Correlation \n",
    "https://machinelearningmastery.com/gentle-introduction-autocorrelation-partial-autocorrelation/"
   ]
  },
  {
   "cell_type": "markdown",
   "metadata": {},
   "source": [
    "## Full"
   ]
  },
  {
   "cell_type": "code",
   "execution_count": 21,
   "metadata": {},
   "outputs": [
    {
     "data": {
      "image/png": "[encoded data removed]",
      "text/plain": [
       "<matplotlib.figure.Figure at 0x7fc1e6628908>"
      ]
     },
     "metadata": {},
     "output_type": "display_data"
    }
   ],
   "source": [
    "from statsmodels.graphics.tsaplots import plot_acf\n",
    "\n",
    "plot_acf(energy_data['Appliances'], lags=500)\n",
    "pyplot.show()"
   ]
  },
  {
   "cell_type": "markdown",
   "metadata": {},
   "source": [
    "## Partial"
   ]
  },
  {
   "cell_type": "code",
   "execution_count": 22,
   "metadata": {},
   "outputs": [
    {
     "data": {
      "image/png": "[encoded data removed]",
      "text/plain": [
       "<matplotlib.figure.Figure at 0x7fc1e66d4e10>"
      ]
     },
     "metadata": {},
     "output_type": "display_data"
    }
   ],
   "source": [
    "from statsmodels.graphics.tsaplots import plot_pacf\n",
    "\n",
    "plot_pacf(energy_data['Appliances'], lags=50)\n",
    "pyplot.show()"
   ]
  },
  {
   "cell_type": "markdown",
   "metadata": {},
   "source": [
    "\n",
    "# First Decomp\n",
    "## Daily"
   ]
  },
  {
   "cell_type": "code",
   "execution_count": 23,
   "metadata": {},
   "outputs": [],
   "source": [
    "KEY = 'Appliances'"
   ]
  },
  {
   "cell_type": "code",
   "execution_count": 25,
   "metadata": {
    "scrolled": true
   },
   "outputs": [
    {
     "data": {
      "image/png": "[encoded data removed]",
      "text/plain": [
       "<matplotlib.figure.Figure at 0x7fc1e677f898>"
      ]
     },
     "metadata": {},
     "output_type": "display_data"
    }
   ],
   "source": [
    "%matplotlib inline\n",
    "\n",
    "result = seasonal_decompose(energy_data[KEY].values, model='additive', two_sided=True, freq=144)\n",
    "\n",
    "# Out\n",
    "result.plot()\n",
    "pyplot.show()"
   ]
  },
  {
   "cell_type": "code",
   "execution_count": 1,
   "metadata": {
    "scrolled": false
   },
   "outputs": [
    {
     "ename": "NameError",
     "evalue": "name 'seasonal_decompose' is not defined",
     "output_type": "error",
     "traceback": [
      "\u001b[0;31m---------------------------------------------------------------------------\u001b[0m",
      "\u001b[0;31mNameError\u001b[0m                                 Traceback (most recent call last)",
      "\u001b[0;32m<ipython-input-1-28d7f7a79a12>\u001b[0m in \u001b[0;36m<module>\u001b[0;34m()\u001b[0m\n\u001b[1;32m      3\u001b[0m \u001b[0;34m\u001b[0m\u001b[0m\n\u001b[1;32m      4\u001b[0m \u001b[0;31m# 1\u001b[0m\u001b[0;34m\u001b[0m\u001b[0;34m\u001b[0m\u001b[0m\n\u001b[0;32m----> 5\u001b[0;31m \u001b[0mresult\u001b[0m \u001b[0;34m=\u001b[0m \u001b[0mseasonal_decompose\u001b[0m\u001b[0;34m(\u001b[0m\u001b[0menergy_data\u001b[0m\u001b[0;34m[\u001b[0m\u001b[0mKEY\u001b[0m\u001b[0;34m]\u001b[0m\u001b[0;34m.\u001b[0m\u001b[0mvalues\u001b[0m\u001b[0;34m,\u001b[0m \u001b[0mmodel\u001b[0m\u001b[0;34m=\u001b[0m\u001b[0;34m'additive'\u001b[0m\u001b[0;34m,\u001b[0m \u001b[0mtwo_sided\u001b[0m\u001b[0;34m=\u001b[0m\u001b[0;32mTrue\u001b[0m\u001b[0;34m,\u001b[0m \u001b[0mfreq\u001b[0m\u001b[0;34m=\u001b[0m\u001b[0;36m144\u001b[0m\u001b[0;34m)\u001b[0m\u001b[0;34m\u001b[0m\u001b[0m\n\u001b[0m\u001b[1;32m      6\u001b[0m \u001b[0mresult\u001b[0m\u001b[0;34m.\u001b[0m\u001b[0mplot\u001b[0m\u001b[0;34m(\u001b[0m\u001b[0;34m)\u001b[0m\u001b[0;34m\u001b[0m\u001b[0m\n\u001b[1;32m      7\u001b[0m \u001b[0msave_fig\u001b[0m\u001b[0;34m(\u001b[0m\u001b[0;34m'appliances_additive_twoside_a_day'\u001b[0m\u001b[0;34m)\u001b[0m\u001b[0;34m\u001b[0m\u001b[0m\n",
      "\u001b[0;31mNameError\u001b[0m: name 'seasonal_decompose' is not defined"
     ]
    }
   ],
   "source": [
    "# Generate a lot of graph\n",
    "\n",
    "\n",
    "# 1\n",
    "result = seasonal_decompose(energy_data[KEY].values, model='additive', two_sided=True, freq=144)\n",
    "result.plot()\n",
    "save_fig('appliances_additive_twoside_a_day')\n",
    "\n",
    "\n",
    "result = seasonal_decompose(energy_data[KEY].values, model='additive', two_sided=True, freq=1008)\n",
    "result.plot()\n",
    "save_fig('appliances_additive_twoside_b_week')\n",
    "\n",
    "result = seasonal_decompose(energy_data[KEY].values, model='additive', two_sided=True, freq=4032)\n",
    "result.plot()\n",
    "save_fig('appliances_additive_twoside_c_month')\n",
    "\n",
    "# 2\n",
    "result = seasonal_decompose(energy_data[KEY].values, model='additive', two_sided=False, freq=144)\n",
    "result.plot()\n",
    "save_fig('appliances_additive_oneside_a_day')\n",
    "\n",
    "result = seasonal_decompose(energy_data[KEY].values, model='additive', two_sided=False, freq=1008)\n",
    "result.plot()\n",
    "save_fig('appliances_additive_oneside_b_week')\n",
    "\n",
    "result = seasonal_decompose(energy_data[KEY].values, model='additive', two_sided=False, freq=4032)\n",
    "result.plot()\n",
    "save_fig('appliances_additive_oneside_c_month')\n",
    "\n",
    "# 3\n",
    "result = seasonal_decompose(energy_data[KEY].values, model='multiplicitive', two_sided=True, freq=144)\n",
    "result.plot()\n",
    "save_fig('appliances_multiplicitive_twoside_a_day')\n",
    "\n",
    "result = seasonal_decompose(energy_data[KEY].values, model='multiplicitive', two_sided=True, freq=1008)\n",
    "result.plot()\n",
    "save_fig('appliances_multiplicitive_twoside_b_week')\n",
    "\n",
    "result = seasonal_decompose(energy_data[KEY].values, model='multiplicative', two_sided=True, freq=4032)\n",
    "result.plot()\n",
    "save_fig('appliances_multiplicitive_twoside_c_month')\n",
    "\n",
    "# 4\n",
    "result = seasonal_decompose(energy_data[KEY].values, model='multiplicitive', two_sided=False, freq=144)\n",
    "result.plot()\n",
    "save_fig('appliances_multiplicitive_oneside_a_day')\n",
    "\n",
    "result = seasonal_decompose(energy_data[KEY].values, model='multiplicitive', two_sided=False, freq=1008)\n",
    "result.plot()\n",
    "save_fig('appliances_multiplicitive_oneside_b_week')\n",
    "\n",
    "result = seasonal_decompose(energy_data[KEY].values, model='multiplicative', two_sided=False, freq=4032)\n",
    "result.plot()\n",
    "save_fig('appliances_multiplicitive_oneside_c_month')\n",
    "\n"
   ]
  },
  {
   "cell_type": "markdown",
   "metadata": {},
   "source": [
    "# Light Energy\n",
    "## Daily"
   ]
  },
  {
   "cell_type": "code",
   "execution_count": null,
   "metadata": {
    "scrolled": true
   },
   "outputs": [],
   "source": []
  },
  {
   "cell_type": "code",
   "execution_count": null,
   "metadata": {
    "scrolled": true
   },
   "outputs": [],
   "source": [
    "%matplotlib inline\n",
    "\n",
    "result.plot()\n",
    "pyplot.show()"
   ]
  },
  {
   "cell_type": "code",
   "execution_count": null,
   "metadata": {
    "scrolled": true
   },
   "outputs": [],
   "source": [
    "%matplotlib inline\n",
    "result = seasonal_decompose(energy_data['Appliances'].values, model='additive', two_sided=True, freq=144)\n",
    "result.plot()\n",
    "pyplot.show()"
   ]
  },
  {
   "cell_type": "code",
   "execution_count": null,
   "metadata": {
    "scrolled": true
   },
   "outputs": [],
   "source": [
    "%matplotlib inline\n",
    "result = seasonal_decompose(energy_data['Appliances'].values, model='multiplicitive', two_sided=False, freq=144)\n",
    "result.plot()\n",
    "pyplot.show()"
   ]
  },
  {
   "cell_type": "code",
   "execution_count": null,
   "metadata": {},
   "outputs": [],
   "source": []
  },
  {
   "cell_type": "markdown",
   "metadata": {},
   "source": [
    "# BREAK\n",
    "# Correlation"
   ]
  },
  {
   "cell_type": "code",
   "execution_count": null,
   "metadata": {
    "scrolled": true
   },
   "outputs": [],
   "source": [
    "# TODO: Pearson Correlation\n",
    "corr_matrix = energy_data.corr()\n",
    "dependent_corr = corr_matrix[\"Appliances\"]\n",
    "dependent_corr"
   ]
  },
  {
   "cell_type": "code",
   "execution_count": null,
   "metadata": {
    "scrolled": false
   },
   "outputs": [],
   "source": [
    "dependent_corr.drop(\"Appliances\").hist()"
   ]
  },
  {
   "cell_type": "code",
   "execution_count": null,
   "metadata": {},
   "outputs": [],
   "source": [
    "#CORR_LEVEL = 0.07\n",
    "CORR_LEVEL = 0.1\n",
    "dependent_corr = corr_matrix[\"Appliances\"]\n",
    "drop_list = []\n",
    "\n",
    "for column in energy_data.columns.drop(\"date\"):\n",
    "    val = dependent_corr[column]\n",
    "    \n",
    "    # TODO:  cat variables\n",
    "    # dont_drop = False\n",
    "    dont_drop = column in dont_drop_list\n",
    "\n",
    "    if(abs(dependent_corr[column]) < CORR_LEVEL) and (dont_drop==False):\n",
    "        drop_list.append(column)\n",
    "        \n",
    "#drop_list   \n",
    "energy_data_filtered = energy_data.drop(drop_list, axis=1)"
   ]
  },
  {
   "cell_type": "code",
   "execution_count": null,
   "metadata": {
    "scrolled": true
   },
   "outputs": [],
   "source": [
    "energy_data_filtered.describe()"
   ]
  },
  {
   "cell_type": "code",
   "execution_count": null,
   "metadata": {},
   "outputs": [],
   "source": [
    "energy_data = energy_data_filtered"
   ]
  },
  {
   "cell_type": "code",
   "execution_count": null,
   "metadata": {},
   "outputs": [],
   "source": [
    "%matplotlib inline\n",
    "import matplotlib.pyplot as plt\n",
    "energy_data.hist(bins=50, figsize=(20,15))\n",
    "save_fig(\"attribute_histogram_plots\")\n",
    "plt.show()"
   ]
  },
  {
   "cell_type": "code",
   "execution_count": null,
   "metadata": {},
   "outputs": [],
   "source": [
    "def get_corr_matrix(dataframe, dependent, corr_level=None):\n",
    "    corr_matrix = dataframe.corr()\n",
    "    dependent_corr = corr_matrix[dependent]\n",
    "\n",
    "    dependent_corr.drop(dependent).hist()\n",
    "\n",
    "    if corr_level is None:\n",
    "        return\n",
    "    \n",
    "    dependent_corr = corr_matrix[\"Appliances\"]\n",
    "    drop_list = []\n",
    "\n",
    "    for column in energy_data.columns.drop(\"date\").drop(\"date_fmt\"):\n",
    "        val = dependent_corr[column]\n",
    "        if abs(dependent_corr[column]) < CORR_LEVEL:\n",
    "            drop_list.append(column)\n",
    "        \n",
    "    drop_list   \n",
    "    energy_data_filtered = energy_data.drop(drop_list, axis=1)"
   ]
  },
  {
   "cell_type": "markdown",
   "metadata": {},
   "source": [
    "## Date Format\n",
    "Format all the dates into a datetime for timemseries stuff, and get Weekday/Weekend classifications"
   ]
  },
  {
   "cell_type": "code",
   "execution_count": null,
   "metadata": {},
   "outputs": [],
   "source": [
    "from datetime import datetime\n",
    "\n",
    "# Convert to datetime\n",
    "energy_data['date_fmt'] = energy_data[\"date\"].apply(lambda x: datetime.strptime(x, \"%Y-%m-%d %H:%M:%S\"))\n",
    "\n",
    "# Index and sort\n",
    "energy_data.set_index('date_fmt')\n",
    "energy_data.sort_index(inplace=True)\n",
    "# Ticks\n",
    "energy_data['ticks'] = range(0, len(energy_data.index.values))\n",
    "energy_data.head()"
   ]
  },
  {
   "cell_type": "code",
   "execution_count": null,
   "metadata": {},
   "outputs": [],
   "source": [
    "# Classify Weekend vs Weekday\n",
    "# results w/ Monday at 0\n",
    "\n",
    "# This func is for labels if needed\n",
    "def get_day(date):\n",
    "    day_int = date.weekday()\n",
    "    \n",
    "    day_switch = {\n",
    "        0: \"Monday\",\n",
    "        1: \"Tuesday\",\n",
    "        2: \"Wednesday\",\n",
    "        3: \"Thursday\",\n",
    "        4: \"Friday\",\n",
    "        5: \"Saturday\",\n",
    "        6: \"Sunday\"\n",
    "    }\n",
    "    return day_switch.get(day_int, \"Invalid day\")\n",
    "\n",
    "# Just need datetime.weekday for #\n",
    "energy_data[\"weekday_class\"] = energy_data[\"date_fmt\"].apply(datetime.weekday)\n",
    "\n"
   ]
  },
  {
   "cell_type": "code",
   "execution_count": null,
   "metadata": {},
   "outputs": [],
   "source": [
    "energy_data[\"weekday_class\"].value_counts()"
   ]
  },
  {
   "cell_type": "code",
   "execution_count": null,
   "metadata": {},
   "outputs": [],
   "source": [
    "# 0 is weekday\n",
    "def weekend_weekday(date):\n",
    "    if date.weekday() == 5 or date.weekday() == 6:\n",
    "        return 1\n",
    "    else:\n",
    "        return 0\n",
    "\n",
    "energy_data[\"weekend_class\"] = energy_data[\"date_fmt\"].apply(weekend_weekday)"
   ]
  },
  {
   "cell_type": "code",
   "execution_count": null,
   "metadata": {},
   "outputs": [],
   "source": [
    "energy_data[\"weekend_class\"].value_counts()"
   ]
  },
  {
   "cell_type": "code",
   "execution_count": null,
   "metadata": {},
   "outputs": [],
   "source": [
    "energy_data.describe()"
   ]
  },
  {
   "cell_type": "markdown",
   "metadata": {},
   "source": [
    "## Now we can observe\n",
    "\n",
    "Appliances: Standard Dev is high compared to mean, especially factoring in min and max. So, we will have a big initial hump (maybe close to localized normal), and some BIG positive outliers\n",
    "\n",
    "Lights: a lot of time on 0, maybe we can catogorize/bin this val\n",
    "\n",
    "Visibility: one huge bin?\n",
    "\n",
    "Windspeed: Levels?"
   ]
  },
  {
   "cell_type": "code",
   "execution_count": null,
   "metadata": {},
   "outputs": [],
   "source": [
    "def get_corr_matrix(dataframe, dependent, corr_level=None):\n",
    "    corr_matrix = dataframe.corr()\n",
    "    dependent_corr = corr_matrix[dependent]\n",
    "\n",
    "    dependent_corr.drop(dependent).hist()\n",
    "\n",
    "    if corr_level is None:\n",
    "        return\n",
    "    \n",
    "    dependent_corr = corr_matrix[\"Appliances\"]\n",
    "    drop_list = []\n",
    "\n",
    "    for column in energy_data.columns.drop(\"date\").drop(\"date_fmt\"):\n",
    "        val = dependent_corr[column]\n",
    "        if abs(dependent_corr[column]) < CORR_LEVEL:\n",
    "            drop_list.append(column)\n",
    "        \n",
    "    drop_list   \n",
    "    energy_data_filtered = energy_data.drop(drop_list, axis=1)\n",
    "    "
   ]
  },
  {
   "cell_type": "code",
   "execution_count": null,
   "metadata": {},
   "outputs": [],
   "source": [
    "get_corr_matrix(energy_data, \"Appliances\")"
   ]
  },
  {
   "cell_type": "code",
   "execution_count": null,
   "metadata": {},
   "outputs": [],
   "source": [
    "%matplotlib inline\n",
    "import matplotlib.pyplot as plt\n",
    "energy_data.hist(bins=50, figsize=(20,15))\n",
    "save_fig(\"attribute_histogram_plots\")\n",
    "plt.show()"
   ]
  },
  {
   "cell_type": "markdown",
   "metadata": {},
   "source": [
    "## First Plot"
   ]
  },
  {
   "cell_type": "code",
   "execution_count": null,
   "metadata": {
    "scrolled": true
   },
   "outputs": [],
   "source": [
    "fig = plt.figure(1)\n",
    "axl = fig.add_subplot(111)\n",
    "axl.set_xlabel('Time')\n",
    "axl.set_ylabel('Out (kw)')\n",
    "axl.plot('date_fmt', 'Appliances', data = energy_data)\n"
   ]
  },
  {
   "cell_type": "markdown",
   "metadata": {},
   "source": [
    "## Smooth and Zoom\n",
    "First full is index 42\n",
    "6*24 = 184 measurements a day"
   ]
  },
  {
   "cell_type": "code",
   "execution_count": null,
   "metadata": {},
   "outputs": [],
   "source": [
    "# Lets look at the last 3 hours, or 3*60/10\n",
    "# window = 80\n",
    "window = 18\n",
    "\n",
    "energy_data['Rolling Appliances'] = energy_data['Appliances'].rolling(window = window).mean()"
   ]
  },
  {
   "cell_type": "code",
   "execution_count": null,
   "metadata": {
    "scrolled": true
   },
   "outputs": [],
   "source": [
    "fig = plt.figure(1)\n",
    "axl = fig.add_subplot(111)\n",
    "axl.set_xlabel('Time')\n",
    "axl.set_ylabel('Out (kw)')\n",
    "axl.plot('date_fmt', 'Rolling Appliances', data = energy_data)\n"
   ]
  },
  {
   "cell_type": "code",
   "execution_count": null,
   "metadata": {},
   "outputs": [],
   "source": [
    "day1_start = 42\n",
    "day_size = 144\n",
    "day1_end = day1_start + day_size\n",
    "\n",
    "energy_data[\"date_fmt\"][day1_end]\n",
    "day_size"
   ]
  },
  {
   "cell_type": "markdown",
   "metadata": {},
   "source": [
    "# 1<-7<-30 days"
   ]
  },
  {
   "cell_type": "code",
   "execution_count": null,
   "metadata": {},
   "outputs": [],
   "source": [
    "energy_day = energy_data[day1_start:day1_end]\n",
    "\n",
    "energy_7day = energy_data[day1_start:day1_end+(6*day_size)]\n",
    "\n",
    "energy_30day = energy_data[day1_start:day1_end+(29*day_size)]\n",
    "\n",
    "energy_7day.describe()"
   ]
  },
  {
   "cell_type": "code",
   "execution_count": null,
   "metadata": {},
   "outputs": [],
   "source": [
    "fig, axes = plt.subplots(nrows = 1, ncols = 3, figsize = (15,5))\n",
    "\n",
    "axes[0].plot('date_fmt', 'Appliances', data = energy_day)\n",
    "axes[0].set_title('One Day')\n",
    "\n",
    "axes[1].plot('date_fmt', 'Appliances', data = energy_7day)\n",
    "axes[1].set_title('Seven Days')\n",
    "\n",
    "axes[2].plot('date_fmt', 'Appliances', data = energy_30day)\n",
    "axes[2].set_title('30 Days')"
   ]
  },
  {
   "cell_type": "code",
   "execution_count": null,
   "metadata": {
    "scrolled": true
   },
   "outputs": [],
   "source": [
    "fig, axes = plt.subplots(nrows = 1, ncols = 3, figsize = (15,5))\n",
    "\n",
    "axes[0].plot('date_fmt', 'Rolling Appliances', data = energy_day)\n",
    "axes[0].set_title('One Day')\n",
    "\n",
    "axes[1].plot('date_fmt', 'Rolling Appliances', data = energy_7day)\n",
    "axes[1].set_title('Seven Days')\n",
    "\n",
    "axes[2].plot('date_fmt', 'Rolling Appliances', data = energy_30day)\n",
    "axes[2].set_title('30 Days')"
   ]
  },
  {
   "cell_type": "markdown",
   "metadata": {},
   "source": [
    "# First three days"
   ]
  },
  {
   "cell_type": "code",
   "execution_count": null,
   "metadata": {},
   "outputs": [],
   "source": [
    "#day_size = day1_start\n",
    "energy_day2 = energy_data[day1_start+day_size:day1_end+day_size]\n",
    "\n",
    "energy_day3 = energy_data[day1_start+(2*day_size):day1_end+(2*day_size)]\n",
    "\n",
    "energy_day4 = energy_data[day1_start+(3*day_size):day1_end+(3*day_size)]"
   ]
  },
  {
   "cell_type": "code",
   "execution_count": null,
   "metadata": {
    "scrolled": true
   },
   "outputs": [],
   "source": [
    "fig, axes = plt.subplots(nrows = 1, ncols = 3, figsize = (15,5))\n",
    "\n",
    "axes[0].plot('date_fmt', 'Appliances', data = energy_day2)\n",
    "axes[0].set_title('2nd Day')\n",
    "\n",
    "axes[1].plot('date_fmt', 'Appliances', data = energy_day3)\n",
    "axes[1].set_title('3rd Day')\n",
    "\n",
    "axes[2].plot('date_fmt', 'Appliances', data = energy_day4)\n",
    "axes[2].set_title('4th Day')"
   ]
  },
  {
   "cell_type": "code",
   "execution_count": null,
   "metadata": {},
   "outputs": [],
   "source": [
    "fig, axes = plt.subplots(nrows = 1, ncols = 3, figsize = (15,5))\n",
    "\n",
    "axes[0].plot('date_fmt', 'Rolling Appliances', data = energy_day2)\n",
    "axes[0].set_title('2nd Day')\n",
    "\n",
    "axes[1].plot('date_fmt', 'Rolling Appliances', data = energy_day3)\n",
    "axes[1].set_title('3rd Day')\n",
    "\n",
    "axes[2].plot('date_fmt', 'Rolling Appliances', data = energy_day4)\n",
    "axes[2].set_title('4th Day')"
   ]
  },
  {
   "cell_type": "markdown",
   "metadata": {},
   "source": [
    "# Hour, 2 Hour, 3 hour"
   ]
  },
  {
   "cell_type": "code",
   "execution_count": null,
   "metadata": {},
   "outputs": [],
   "source": [
    "energy_hour = energy_data[day1_start:day1_start+(2*6)]\n",
    "\n",
    "energy_2hour = energy_data[day1_start:day1_start+(4*6)]\n",
    "\n",
    "energy_3hour = energy_data[day1_start:day1_start+(6*6)]"
   ]
  },
  {
   "cell_type": "code",
   "execution_count": null,
   "metadata": {},
   "outputs": [],
   "source": [
    "fig, axes = plt.subplots(nrows = 1, ncols = 3, figsize = (15,5))\n",
    "\n",
    "axes[0].plot('date_fmt', 'Rolling Appliances', data = energy_hour)\n",
    "axes[0].set_title('One Day')\n",
    "\n",
    "axes[1].plot('date_fmt', 'Rolling Appliances', data = energy_2hour)\n",
    "axes[1].set_title('Seven Days')\n",
    "\n",
    "axes[2].plot('date_fmt', 'Rolling Appliances', data = energy_3hour)\n",
    "axes[2].set_title('30 Days')"
   ]
  },
  {
   "cell_type": "markdown",
   "metadata": {},
   "source": [
    "So, I think we get our fold/step size down to 144, and start with a day-size fold-forward. Move to step-forward technique later.\n",
    "https://machinelearningmastery.com/backtest-machine-learning-models-time-series-forecasting/"
   ]
  },
  {
   "cell_type": "markdown",
   "metadata": {},
   "source": [
    "__Rolling Mean:__ Honestly the variance is pretty high, so maybe not useful."
   ]
  },
  {
   "cell_type": "markdown",
   "metadata": {},
   "source": [
    "# Train/Test split\n",
    "First we will train a model of week 1"
   ]
  },
  {
   "cell_type": "code",
   "execution_count": null,
   "metadata": {},
   "outputs": [],
   "source": [
    "week1_start = day1_start\n",
    "week1_len = (day_size* 7)"
   ]
  },
  {
   "cell_type": "code",
   "execution_count": null,
   "metadata": {},
   "outputs": [],
   "source": [
    "week1_start = day1_start\n",
    "\n",
    "energy_7day = energy_data[day1_start:day1_start+(day_size* 7)]\n",
    "energy_7day.info()"
   ]
  },
  {
   "cell_type": "code",
   "execution_count": null,
   "metadata": {},
   "outputs": [],
   "source": [
    "from sklearn.model_selection import TimeSeriesSplit\n",
    "    \n",
    "X = energy_7day.values\n",
    "splitter = TimeSeriesSplit(n_splits=6)\n",
    "\n",
    "index = 1\n",
    "for train_index, test_index in splitter.split(X):\n",
    "    train = X[train_index]\n",
    "    test = X[test_index]\n",
    "    print('Iteration %d' % (index))\n",
    "    print('Observations: %d' % (len(train) + len(test)))\n",
    "    print('Training Observations: %d' % (len(train)))\n",
    "    print('Testing Observations: %d' % (len(test)))\n",
    "    print()\n",
    "    index += 1"
   ]
  },
  {
   "cell_type": "markdown",
   "metadata": {},
   "source": [
    "### Model training function\n",
    "Not sure if the TimeSeries has a similar library for testing over folds, so ill write a quick function to take in data, splits, model, and aggretator (like an average of model scores"
   ]
  },
  {
   "cell_type": "code",
   "execution_count": null,
   "metadata": {
    "scrolled": true
   },
   "outputs": [],
   "source": [
    "def time_series_fold(pandas_frame, splits, model, aggregate):\n",
    "    X = pandas_frame.values\n",
    "    splitter = TimeSeriesSplit(n_splits=splits)\n",
    "    results = []\n",
    "    \n",
    "    index = 1\n",
    "    for train_index, test_index in splitter.split(X):\n",
    "        train = X[train_index]\n",
    "        test = X[test_index]\n",
    "        \n",
    "        # Execute the Model\n",
    "        results.append(model(index, train, test))\n",
    "        \n",
    "        # Aggregate returns\n",
    "        agg_results = aggregate(results)\n",
    "        \n",
    "        index += 1\n",
    "    return agg_results\n",
    "        \n",
    "\n"
   ]
  },
  {
   "cell_type": "markdown",
   "metadata": {},
   "source": [
    "This is placeholder for the model training function. It should return the model metric (R2 or what have you), index is a placeholder"
   ]
  },
  {
   "cell_type": "code",
   "execution_count": null,
   "metadata": {},
   "outputs": [],
   "source": [
    "def print_lens(index, train, test):\n",
    "        print('Iteration %d' % (index))\n",
    "        print('Observations: %d' % (len(train) + len(test)))\n",
    "        print('Training Observations: %d' % (len(train)))\n",
    "        print('Testing Observations: %d' % (len(test)))\n",
    "        print()\n",
    "        \n",
    "        return index\n"
   ]
  },
  {
   "cell_type": "markdown",
   "metadata": {},
   "source": [
    "This is an example of an aggregate function, which takes the models' scores and spits out an aggregated evaluation. Everthing needs to be incorporated in the list, so for example, a weight could be a list of dicts, or a list of two lists, etc. "
   ]
  },
  {
   "cell_type": "code",
   "execution_count": null,
   "metadata": {},
   "outputs": [],
   "source": [
    "def average(list):\n",
    "    total = sum(list)\n",
    "    \n",
    "    return total/len(list)\n",
    "    "
   ]
  },
  {
   "cell_type": "code",
   "execution_count": null,
   "metadata": {
    "scrolled": true
   },
   "outputs": [],
   "source": [
    "time_series_fold(energy_7day, 6, print_lens, average)"
   ]
  },
  {
   "cell_type": "markdown",
   "metadata": {},
   "source": [
    "# Regression"
   ]
  },
  {
   "cell_type": "code",
   "execution_count": null,
   "metadata": {},
   "outputs": [],
   "source": [
    "from sklearn.linear_model import LinearRegression"
   ]
  },
  {
   "cell_type": "code",
   "execution_count": null,
   "metadata": {},
   "outputs": [],
   "source": [
    "model = LinearRegression().fit(energy_day2[['date_fmt']], energy_day2[['Rolling Appliances']])\n",
    "\n"
   ]
  },
  {
   "cell_type": "code",
   "execution_count": null,
   "metadata": {},
   "outputs": [],
   "source": [
    "energy_data.corr()"
   ]
  },
  {
   "cell_type": "code",
   "execution_count": null,
   "metadata": {},
   "outputs": [],
   "source": []
  },
  {
   "cell_type": "code",
   "execution_count": null,
   "metadata": {},
   "outputs": [],
   "source": []
  },
  {
   "cell_type": "code",
   "execution_count": null,
   "metadata": {},
   "outputs": [],
   "source": []
  },
  {
   "cell_type": "code",
   "execution_count": null,
   "metadata": {},
   "outputs": [],
   "source": []
  },
  {
   "cell_type": "code",
   "execution_count": null,
   "metadata": {},
   "outputs": [],
   "source": []
  }
 ],
 "metadata": {
  "kernelspec": {
   "display_name": "Python 3",
   "language": "python",
   "name": "python3"
  },
  "language_info": {
   "codemirror_mode": {
    "name": "ipython",
    "version": 3
   },
   "file_extension": ".py",
   "mimetype": "text/x-python",
   "name": "python",
   "nbconvert_exporter": "python",
   "pygments_lexer": "ipython3",
   "version": "3.6.4"
  }
 },
 "nbformat": 4,
 "nbformat_minor": 2
}
